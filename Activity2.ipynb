{
 "cells": [
  {
   "cell_type": "markdown",
   "id": "15efb193-5c11-4494-8935-65f568d39007",
   "metadata": {},
   "source": [
    "<h1>Activity 2 - UK ROAD ACCIDENTS DATA ANALYTICS</h1> \n",
    "<hr>\n",
    "<h3> Data Analyst: Johnrey Mansilungan</h3>"
   ]
  },
  {
   "cell_type": "code",
   "execution_count": 1,
   "id": "470a1aa3-d1f3-40eb-94c9-da343b3de919",
   "metadata": {},
   "outputs": [],
   "source": [
    "import pandas as pd\n",
    "import numpy as np\n",
    "import matplotlib.pyplot as plt\n",
    "import warnings\n",
    "warnings.filterwarnings('ignore')"
   ]
  },
  {
   "cell_type": "code",
   "execution_count": 2,
   "id": "c94a1899-a04d-4277-b01f-f185d1bb80ba",
   "metadata": {},
   "outputs": [
    {
     "data": {
      "text/html": [
       "<div>\n",
       "<style scoped>\n",
       "    .dataframe tbody tr th:only-of-type {\n",
       "        vertical-align: middle;\n",
       "    }\n",
       "\n",
       "    .dataframe tbody tr th {\n",
       "        vertical-align: top;\n",
       "    }\n",
       "\n",
       "    .dataframe thead th {\n",
       "        text-align: right;\n",
       "    }\n",
       "</style>\n",
       "<table border=\"1\" class=\"dataframe\">\n",
       "  <thead>\n",
       "    <tr style=\"text-align: right;\">\n",
       "      <th></th>\n",
       "      <th>Index</th>\n",
       "      <th>Accident_Severity</th>\n",
       "      <th>Accident Date</th>\n",
       "      <th>Latitude</th>\n",
       "      <th>Light_Conditions</th>\n",
       "      <th>District Area</th>\n",
       "      <th>Longitude</th>\n",
       "      <th>Number_of_Casualties</th>\n",
       "      <th>Number_of_Vehicles</th>\n",
       "      <th>Road_Surface_Conditions</th>\n",
       "      <th>Road_Type</th>\n",
       "      <th>Urban_or_Rural_Area</th>\n",
       "      <th>Weather_Conditions</th>\n",
       "      <th>Vehicle_Type</th>\n",
       "    </tr>\n",
       "  </thead>\n",
       "  <tbody>\n",
       "    <tr>\n",
       "      <th>0</th>\n",
       "      <td>200701BS64157</td>\n",
       "      <td>Serious</td>\n",
       "      <td>5/6/2019</td>\n",
       "      <td>51.506187</td>\n",
       "      <td>Darkness - lights lit</td>\n",
       "      <td>Kensington and Chelsea</td>\n",
       "      <td>-0.209082</td>\n",
       "      <td>1</td>\n",
       "      <td>2</td>\n",
       "      <td>Dry</td>\n",
       "      <td>Single carriageway</td>\n",
       "      <td>Urban</td>\n",
       "      <td>Fine no high winds</td>\n",
       "      <td>Car</td>\n",
       "    </tr>\n",
       "    <tr>\n",
       "      <th>1</th>\n",
       "      <td>200701BS65737</td>\n",
       "      <td>Serious</td>\n",
       "      <td>2/7/2019</td>\n",
       "      <td>51.495029</td>\n",
       "      <td>Daylight</td>\n",
       "      <td>Kensington and Chelsea</td>\n",
       "      <td>-0.173647</td>\n",
       "      <td>1</td>\n",
       "      <td>2</td>\n",
       "      <td>Wet or damp</td>\n",
       "      <td>Single carriageway</td>\n",
       "      <td>Urban</td>\n",
       "      <td>Raining no high winds</td>\n",
       "      <td>Car</td>\n",
       "    </tr>\n",
       "    <tr>\n",
       "      <th>2</th>\n",
       "      <td>200701BS66127</td>\n",
       "      <td>Serious</td>\n",
       "      <td>26-08-2019</td>\n",
       "      <td>51.517715</td>\n",
       "      <td>Darkness - lighting unknown</td>\n",
       "      <td>Kensington and Chelsea</td>\n",
       "      <td>-0.210215</td>\n",
       "      <td>1</td>\n",
       "      <td>3</td>\n",
       "      <td>Dry</td>\n",
       "      <td>NaN</td>\n",
       "      <td>Urban</td>\n",
       "      <td>NaN</td>\n",
       "      <td>Taxi/Private hire car</td>\n",
       "    </tr>\n",
       "    <tr>\n",
       "      <th>3</th>\n",
       "      <td>200701BS66128</td>\n",
       "      <td>Serious</td>\n",
       "      <td>16-08-2019</td>\n",
       "      <td>51.495478</td>\n",
       "      <td>Daylight</td>\n",
       "      <td>Kensington and Chelsea</td>\n",
       "      <td>-0.202731</td>\n",
       "      <td>1</td>\n",
       "      <td>4</td>\n",
       "      <td>Dry</td>\n",
       "      <td>Single carriageway</td>\n",
       "      <td>Urban</td>\n",
       "      <td>Fine no high winds</td>\n",
       "      <td>Bus or coach (17 or more pass seats)</td>\n",
       "    </tr>\n",
       "    <tr>\n",
       "      <th>4</th>\n",
       "      <td>200701BS66837</td>\n",
       "      <td>Slight</td>\n",
       "      <td>3/9/2019</td>\n",
       "      <td>51.488576</td>\n",
       "      <td>Darkness - lights lit</td>\n",
       "      <td>Kensington and Chelsea</td>\n",
       "      <td>-0.192487</td>\n",
       "      <td>1</td>\n",
       "      <td>2</td>\n",
       "      <td>Dry</td>\n",
       "      <td>NaN</td>\n",
       "      <td>Urban</td>\n",
       "      <td>NaN</td>\n",
       "      <td>Other vehicle</td>\n",
       "    </tr>\n",
       "    <tr>\n",
       "      <th>...</th>\n",
       "      <td>...</td>\n",
       "      <td>...</td>\n",
       "      <td>...</td>\n",
       "      <td>...</td>\n",
       "      <td>...</td>\n",
       "      <td>...</td>\n",
       "      <td>...</td>\n",
       "      <td>...</td>\n",
       "      <td>...</td>\n",
       "      <td>...</td>\n",
       "      <td>...</td>\n",
       "      <td>...</td>\n",
       "      <td>...</td>\n",
       "      <td>...</td>\n",
       "    </tr>\n",
       "    <tr>\n",
       "      <th>660674</th>\n",
       "      <td>201091NM01760</td>\n",
       "      <td>Slight</td>\n",
       "      <td>18-02-2022</td>\n",
       "      <td>57.374005</td>\n",
       "      <td>Daylight</td>\n",
       "      <td>Highland</td>\n",
       "      <td>-3.467828</td>\n",
       "      <td>2</td>\n",
       "      <td>1</td>\n",
       "      <td>Dry</td>\n",
       "      <td>Single carriageway</td>\n",
       "      <td>Rural</td>\n",
       "      <td>Fine no high winds</td>\n",
       "      <td>Car</td>\n",
       "    </tr>\n",
       "    <tr>\n",
       "      <th>660675</th>\n",
       "      <td>201091NM01881</td>\n",
       "      <td>Slight</td>\n",
       "      <td>21-02-2022</td>\n",
       "      <td>57.232273</td>\n",
       "      <td>Darkness - no lighting</td>\n",
       "      <td>Highland</td>\n",
       "      <td>-3.809281</td>\n",
       "      <td>1</td>\n",
       "      <td>1</td>\n",
       "      <td>Frost or ice</td>\n",
       "      <td>Single carriageway</td>\n",
       "      <td>Rural</td>\n",
       "      <td>Fine no high winds</td>\n",
       "      <td>Car</td>\n",
       "    </tr>\n",
       "    <tr>\n",
       "      <th>660676</th>\n",
       "      <td>201091NM01935</td>\n",
       "      <td>Slight</td>\n",
       "      <td>23-02-2022</td>\n",
       "      <td>57.585044</td>\n",
       "      <td>Daylight</td>\n",
       "      <td>Highland</td>\n",
       "      <td>-3.862727</td>\n",
       "      <td>1</td>\n",
       "      <td>3</td>\n",
       "      <td>Frost or ice</td>\n",
       "      <td>Single carriageway</td>\n",
       "      <td>Rural</td>\n",
       "      <td>Fine no high winds</td>\n",
       "      <td>Car</td>\n",
       "    </tr>\n",
       "    <tr>\n",
       "      <th>660677</th>\n",
       "      <td>201091NM01964</td>\n",
       "      <td>Serious</td>\n",
       "      <td>23-02-2022</td>\n",
       "      <td>57.214898</td>\n",
       "      <td>Darkness - no lighting</td>\n",
       "      <td>Highland</td>\n",
       "      <td>-3.823997</td>\n",
       "      <td>1</td>\n",
       "      <td>2</td>\n",
       "      <td>Wet or damp</td>\n",
       "      <td>Single carriageway</td>\n",
       "      <td>Rural</td>\n",
       "      <td>Fine no high winds</td>\n",
       "      <td>Motorcycle over 500cc</td>\n",
       "    </tr>\n",
       "    <tr>\n",
       "      <th>660678</th>\n",
       "      <td>201091NM02142</td>\n",
       "      <td>Serious</td>\n",
       "      <td>28-02-2022</td>\n",
       "      <td>57.575210</td>\n",
       "      <td>Daylight</td>\n",
       "      <td>Highland</td>\n",
       "      <td>-3.895673</td>\n",
       "      <td>1</td>\n",
       "      <td>1</td>\n",
       "      <td>Wet or damp</td>\n",
       "      <td>Dual carriageway</td>\n",
       "      <td>Rural</td>\n",
       "      <td>Snowing no high winds</td>\n",
       "      <td>Car</td>\n",
       "    </tr>\n",
       "  </tbody>\n",
       "</table>\n",
       "<p>660679 rows × 14 columns</p>\n",
       "</div>"
      ],
      "text/plain": [
       "                Index Accident_Severity Accident Date   Latitude  \\\n",
       "0       200701BS64157           Serious      5/6/2019  51.506187   \n",
       "1       200701BS65737           Serious      2/7/2019  51.495029   \n",
       "2       200701BS66127           Serious    26-08-2019  51.517715   \n",
       "3       200701BS66128           Serious    16-08-2019  51.495478   \n",
       "4       200701BS66837            Slight      3/9/2019  51.488576   \n",
       "...               ...               ...           ...        ...   \n",
       "660674  201091NM01760            Slight    18-02-2022  57.374005   \n",
       "660675  201091NM01881            Slight    21-02-2022  57.232273   \n",
       "660676  201091NM01935            Slight    23-02-2022  57.585044   \n",
       "660677  201091NM01964           Serious    23-02-2022  57.214898   \n",
       "660678  201091NM02142           Serious    28-02-2022  57.575210   \n",
       "\n",
       "                   Light_Conditions           District Area  Longitude  \\\n",
       "0             Darkness - lights lit  Kensington and Chelsea  -0.209082   \n",
       "1                          Daylight  Kensington and Chelsea  -0.173647   \n",
       "2       Darkness - lighting unknown  Kensington and Chelsea  -0.210215   \n",
       "3                          Daylight  Kensington and Chelsea  -0.202731   \n",
       "4             Darkness - lights lit  Kensington and Chelsea  -0.192487   \n",
       "...                             ...                     ...        ...   \n",
       "660674                     Daylight                Highland  -3.467828   \n",
       "660675       Darkness - no lighting                Highland  -3.809281   \n",
       "660676                     Daylight                Highland  -3.862727   \n",
       "660677       Darkness - no lighting                Highland  -3.823997   \n",
       "660678                     Daylight                Highland  -3.895673   \n",
       "\n",
       "        Number_of_Casualties  Number_of_Vehicles Road_Surface_Conditions  \\\n",
       "0                          1                   2                     Dry   \n",
       "1                          1                   2             Wet or damp   \n",
       "2                          1                   3                     Dry   \n",
       "3                          1                   4                     Dry   \n",
       "4                          1                   2                     Dry   \n",
       "...                      ...                 ...                     ...   \n",
       "660674                     2                   1                     Dry   \n",
       "660675                     1                   1            Frost or ice   \n",
       "660676                     1                   3            Frost or ice   \n",
       "660677                     1                   2             Wet or damp   \n",
       "660678                     1                   1             Wet or damp   \n",
       "\n",
       "                 Road_Type Urban_or_Rural_Area     Weather_Conditions  \\\n",
       "0       Single carriageway               Urban     Fine no high winds   \n",
       "1       Single carriageway               Urban  Raining no high winds   \n",
       "2                      NaN               Urban                    NaN   \n",
       "3       Single carriageway               Urban     Fine no high winds   \n",
       "4                      NaN               Urban                    NaN   \n",
       "...                    ...                 ...                    ...   \n",
       "660674  Single carriageway               Rural     Fine no high winds   \n",
       "660675  Single carriageway               Rural     Fine no high winds   \n",
       "660676  Single carriageway               Rural     Fine no high winds   \n",
       "660677  Single carriageway               Rural     Fine no high winds   \n",
       "660678    Dual carriageway               Rural  Snowing no high winds   \n",
       "\n",
       "                                Vehicle_Type  \n",
       "0                                        Car  \n",
       "1                                        Car  \n",
       "2                      Taxi/Private hire car  \n",
       "3       Bus or coach (17 or more pass seats)  \n",
       "4                              Other vehicle  \n",
       "...                                      ...  \n",
       "660674                                   Car  \n",
       "660675                                   Car  \n",
       "660676                                   Car  \n",
       "660677                 Motorcycle over 500cc  \n",
       "660678                                   Car  \n",
       "\n",
       "[660679 rows x 14 columns]"
      ]
     },
     "execution_count": 2,
     "metadata": {},
     "output_type": "execute_result"
    }
   ],
   "source": [
    "data = pd.read_csv('datasets\\\\uk_road_accident.csv')\n",
    "data"
   ]
  },
  {
   "cell_type": "markdown",
   "id": "83837359-3773-494d-a4aa-5b82b6be92aa",
   "metadata": {},
   "source": [
    "<h2>Descriptive Analysis</h2>"
   ]
  },
  {
   "cell_type": "code",
   "execution_count": 3,
   "id": "685e53eb-affa-4ca5-983b-7a0e8d8306be",
   "metadata": {},
   "outputs": [
    {
     "name": "stdout",
     "output_type": "stream",
     "text": [
      "<class 'pandas.core.frame.DataFrame'>\n",
      "RangeIndex: 660679 entries, 0 to 660678\n",
      "Data columns (total 14 columns):\n",
      " #   Column                   Non-Null Count   Dtype  \n",
      "---  ------                   --------------   -----  \n",
      " 0   Index                    660679 non-null  object \n",
      " 1   Accident_Severity        660679 non-null  object \n",
      " 2   Accident Date            660679 non-null  object \n",
      " 3   Latitude                 660654 non-null  float64\n",
      " 4   Light_Conditions         660679 non-null  object \n",
      " 5   District Area            660679 non-null  object \n",
      " 6   Longitude                660653 non-null  float64\n",
      " 7   Number_of_Casualties     660679 non-null  int64  \n",
      " 8   Number_of_Vehicles       660679 non-null  int64  \n",
      " 9   Road_Surface_Conditions  659953 non-null  object \n",
      " 10  Road_Type                656159 non-null  object \n",
      " 11  Urban_or_Rural_Area      660664 non-null  object \n",
      " 12  Weather_Conditions       646551 non-null  object \n",
      " 13  Vehicle_Type             660679 non-null  object \n",
      "dtypes: float64(2), int64(2), object(10)\n",
      "memory usage: 70.6+ MB\n"
     ]
    }
   ],
   "source": [
    "data.info()"
   ]
  },
  {
   "cell_type": "code",
   "execution_count": 4,
   "id": "694ce5a7-91cb-4bc8-b561-a9c89a625e07",
   "metadata": {},
   "outputs": [
    {
     "data": {
      "text/html": [
       "<div>\n",
       "<style scoped>\n",
       "    .dataframe tbody tr th:only-of-type {\n",
       "        vertical-align: middle;\n",
       "    }\n",
       "\n",
       "    .dataframe tbody tr th {\n",
       "        vertical-align: top;\n",
       "    }\n",
       "\n",
       "    .dataframe thead th {\n",
       "        text-align: right;\n",
       "    }\n",
       "</style>\n",
       "<table border=\"1\" class=\"dataframe\">\n",
       "  <thead>\n",
       "    <tr style=\"text-align: right;\">\n",
       "      <th></th>\n",
       "      <th>count</th>\n",
       "      <th>mean</th>\n",
       "      <th>std</th>\n",
       "      <th>min</th>\n",
       "      <th>25%</th>\n",
       "      <th>50%</th>\n",
       "      <th>75%</th>\n",
       "      <th>max</th>\n",
       "    </tr>\n",
       "  </thead>\n",
       "  <tbody>\n",
       "    <tr>\n",
       "      <th>Latitude</th>\n",
       "      <td>660654.0</td>\n",
       "      <td>52.553866</td>\n",
       "      <td>1.406922</td>\n",
       "      <td>49.914430</td>\n",
       "      <td>51.490690</td>\n",
       "      <td>52.315641</td>\n",
       "      <td>53.453452</td>\n",
       "      <td>60.757544</td>\n",
       "    </tr>\n",
       "    <tr>\n",
       "      <th>Longitude</th>\n",
       "      <td>660653.0</td>\n",
       "      <td>-1.431210</td>\n",
       "      <td>1.383330</td>\n",
       "      <td>-7.516225</td>\n",
       "      <td>-2.332291</td>\n",
       "      <td>-1.411667</td>\n",
       "      <td>-0.232869</td>\n",
       "      <td>1.762010</td>\n",
       "    </tr>\n",
       "    <tr>\n",
       "      <th>Number_of_Casualties</th>\n",
       "      <td>660679.0</td>\n",
       "      <td>1.357040</td>\n",
       "      <td>0.824847</td>\n",
       "      <td>1.000000</td>\n",
       "      <td>1.000000</td>\n",
       "      <td>1.000000</td>\n",
       "      <td>1.000000</td>\n",
       "      <td>68.000000</td>\n",
       "    </tr>\n",
       "    <tr>\n",
       "      <th>Number_of_Vehicles</th>\n",
       "      <td>660679.0</td>\n",
       "      <td>1.831255</td>\n",
       "      <td>0.715269</td>\n",
       "      <td>1.000000</td>\n",
       "      <td>1.000000</td>\n",
       "      <td>2.000000</td>\n",
       "      <td>2.000000</td>\n",
       "      <td>32.000000</td>\n",
       "    </tr>\n",
       "  </tbody>\n",
       "</table>\n",
       "</div>"
      ],
      "text/plain": [
       "                         count       mean       std        min        25%  \\\n",
       "Latitude              660654.0  52.553866  1.406922  49.914430  51.490690   \n",
       "Longitude             660653.0  -1.431210  1.383330  -7.516225  -2.332291   \n",
       "Number_of_Casualties  660679.0   1.357040  0.824847   1.000000   1.000000   \n",
       "Number_of_Vehicles    660679.0   1.831255  0.715269   1.000000   1.000000   \n",
       "\n",
       "                            50%        75%        max  \n",
       "Latitude              52.315641  53.453452  60.757544  \n",
       "Longitude             -1.411667  -0.232869   1.762010  \n",
       "Number_of_Casualties   1.000000   1.000000  68.000000  \n",
       "Number_of_Vehicles     2.000000   2.000000  32.000000  "
      ]
     },
     "execution_count": 4,
     "metadata": {},
     "output_type": "execute_result"
    }
   ],
   "source": [
    "data.describe().T"
   ]
  },
  {
   "cell_type": "markdown",
   "id": "004f9857-2015-4f6a-ba26-fc847b51efcf",
   "metadata": {},
   "source": [
    "<h2>Finding missing datas</h2>"
   ]
  },
  {
   "cell_type": "code",
   "execution_count": 5,
   "id": "a121ed65-73dd-4292-b6b3-c4fd7b6a0268",
   "metadata": {},
   "outputs": [
    {
     "data": {
      "text/plain": [
       "Index                          0\n",
       "Accident_Severity              0\n",
       "Accident Date                  0\n",
       "Latitude                      25\n",
       "Light_Conditions               0\n",
       "District Area                  0\n",
       "Longitude                     26\n",
       "Number_of_Casualties           0\n",
       "Number_of_Vehicles             0\n",
       "Road_Surface_Conditions      726\n",
       "Road_Type                   4520\n",
       "Urban_or_Rural_Area           15\n",
       "Weather_Conditions         14128\n",
       "Vehicle_Type                   0\n",
       "dtype: int64"
      ]
     },
     "execution_count": 5,
     "metadata": {},
     "output_type": "execute_result"
    }
   ],
   "source": [
    "data.isnull().sum()"
   ]
  },
  {
   "cell_type": "markdown",
   "id": "0592f33e-b300-441d-bafd-598a69cfa01a",
   "metadata": {},
   "source": [
    "<h2>Filling up missing datas</h2>"
   ]
  },
  {
   "cell_type": "code",
   "execution_count": 6,
   "id": "4b7fc92a-0a87-4267-b650-857db4d1ae00",
   "metadata": {},
   "outputs": [
    {
     "data": {
      "text/plain": [
       "Index                      0\n",
       "Accident_Severity          0\n",
       "Accident Date              0\n",
       "Latitude                   0\n",
       "Light_Conditions           0\n",
       "District Area              0\n",
       "Longitude                  0\n",
       "Number_of_Casualties       0\n",
       "Number_of_Vehicles         0\n",
       "Road_Surface_Conditions    0\n",
       "Road_Type                  0\n",
       "Urban_or_Rural_Area        0\n",
       "Weather_Conditions         0\n",
       "Vehicle_Type               0\n",
       "dtype: int64"
      ]
     },
     "execution_count": 6,
     "metadata": {},
     "output_type": "execute_result"
    }
   ],
   "source": [
    "data['Latitude'] = data['Latitude'].fillna(data['Latitude'].mean())\n",
    "data['Longitude'] = data['Longitude'].fillna(data['Longitude'].mean())\n",
    "data['Road_Surface_Conditions'] = data['Road_Surface_Conditions'].fillna(data['Road_Surface_Conditions'].mode()[0])\n",
    "data['Road_Type'] = data['Road_Type'].fillna(data['Road_Type'].mode()[0])\n",
    "data['Urban_or_Rural_Area'] = data['Urban_or_Rural_Area'].fillna(data['Urban_or_Rural_Area'].mode()[0])\n",
    "data['Weather_Conditions'] = data['Weather_Conditions'].fillna(data['Weather_Conditions'].mode()[0])\n",
    "data.isnull().sum()"
   ]
  },
  {
   "cell_type": "markdown",
   "id": "7a1b3ed4-0e43-4e92-a5ad-e342cbbe7fe2",
   "metadata": {},
   "source": [
    "<h2>Changing data types</h2>"
   ]
  },
  {
   "cell_type": "code",
   "execution_count": 7,
   "id": "e7f94bb7-01d4-4862-98a2-465d46c6e6a1",
   "metadata": {},
   "outputs": [
    {
     "name": "stdout",
     "output_type": "stream",
     "text": [
      "<class 'pandas.core.frame.DataFrame'>\n",
      "RangeIndex: 660679 entries, 0 to 660678\n",
      "Data columns (total 14 columns):\n",
      " #   Column                   Non-Null Count   Dtype  \n",
      "---  ------                   --------------   -----  \n",
      " 0   Index                    660679 non-null  object \n",
      " 1   Accident_Severity        660679 non-null  object \n",
      " 2   Accident Date            660679 non-null  object \n",
      " 3   Latitude                 660679 non-null  float64\n",
      " 4   Light_Conditions         660679 non-null  object \n",
      " 5   District Area            660679 non-null  object \n",
      " 6   Longitude                660679 non-null  float64\n",
      " 7   Number_of_Casualties     660679 non-null  int64  \n",
      " 8   Number_of_Vehicles       660679 non-null  int64  \n",
      " 9   Road_Surface_Conditions  660679 non-null  object \n",
      " 10  Road_Type                660679 non-null  object \n",
      " 11  Urban_or_Rural_Area      660679 non-null  object \n",
      " 12  Weather_Conditions       660679 non-null  object \n",
      " 13  Vehicle_Type             660679 non-null  object \n",
      "dtypes: float64(2), int64(2), object(10)\n",
      "memory usage: 70.6+ MB\n"
     ]
    }
   ],
   "source": [
    "data.info()"
   ]
  },
  {
   "cell_type": "code",
   "execution_count": 8,
   "id": "6c42b819-5b63-42e8-955d-b92ec0420341",
   "metadata": {},
   "outputs": [
    {
     "name": "stdout",
     "output_type": "stream",
     "text": [
      "<class 'pandas.core.frame.DataFrame'>\n",
      "RangeIndex: 660679 entries, 0 to 660678\n",
      "Data columns (total 18 columns):\n",
      " #   Column                   Non-Null Count   Dtype         \n",
      "---  ------                   --------------   -----         \n",
      " 0   Index                    660679 non-null  category      \n",
      " 1   Accident_Severity        660679 non-null  category      \n",
      " 2   Accident Date            265007 non-null  datetime64[ns]\n",
      " 3   Latitude                 660679 non-null  float64       \n",
      " 4   Light_Conditions         660679 non-null  category      \n",
      " 5   District Area            660679 non-null  category      \n",
      " 6   Longitude                660679 non-null  float64       \n",
      " 7   Number_of_Casualties     660679 non-null  int64         \n",
      " 8   Number_of_Vehicles       660679 non-null  int64         \n",
      " 9   Road_Surface_Conditions  660679 non-null  category      \n",
      " 10  Road_Type                660679 non-null  category      \n",
      " 11  Urban_or_Rural_Area      660679 non-null  category      \n",
      " 12  Weather_Conditions       660679 non-null  category      \n",
      " 13  Vehicle_Type             660679 non-null  category      \n",
      " 14  Year                     265007 non-null  float64       \n",
      " 15  Month                    265007 non-null  float64       \n",
      " 16  Day                      265007 non-null  float64       \n",
      " 17  DaysOfWeek               265007 non-null  float64       \n",
      "dtypes: category(9), datetime64[ns](1), float64(6), int64(2)\n",
      "memory usage: 72.9 MB\n"
     ]
    }
   ],
   "source": [
    "data['Index'] = data['Index'].astype('category')\n",
    "data['Accident_Severity'] = data['Accident_Severity'].astype('category')\n",
    "#data['Accident Date'] = data['Accident Date'].astype('category')\n",
    "\n",
    "#CLEANING UP DATE\n",
    "data['Accident Date'] = data['Accident Date'].astype(str)\n",
    "data['Accident Date'].replace('/', '-')\n",
    "data['Accident Date'].str.strip()\n",
    "\n",
    "data['Accident Date'] = pd.to_datetime(data['Accident Date'], dayfirst= True,errors='coerce' )\n",
    "data['Year'] = data['Accident Date'].dt.year\n",
    "data['Month'] = data['Accident Date'].dt.month\n",
    "data['Day'] = data['Accident Date'].dt.day\n",
    "data['DaysOfWeek'] = data['Accident Date'].dt.dayofweek\n",
    "\n",
    "\n",
    "data['Light_Conditions'] = data['Light_Conditions'].astype('category')\n",
    "data['District Area'] = data['District Area'].astype('category')\n",
    "data['Road_Surface_Conditions'] = data['Road_Surface_Conditions'].astype('category')\n",
    "data['Road_Type'] = data['Road_Type'].astype('category')\n",
    "data['Urban_or_Rural_Area'] = data['Urban_or_Rural_Area'].astype('category')\n",
    "data['Weather_Conditions'] = data['Weather_Conditions'].astype('category')\n",
    "data['Vehicle_Type'] = data['Vehicle_Type'].astype('category')\n",
    "data.info()"
   ]
  },
  {
   "cell_type": "markdown",
   "id": "8ed24af4-3744-48e9-bc01-a62bb53f0935",
   "metadata": {},
   "source": [
    "<h2>Exploratory Data Analysis EDA</h2>"
   ]
  },
  {
   "cell_type": "markdown",
   "id": "75ff00f2-ddae-437d-9bb9-c8ca76506483",
   "metadata": {},
   "source": [
    "<hr>\n",
    "<h3>Questions</h3>\n",
    "<ol>\n",
    "    <li>Which district reports the highest proportion of Fatal accidents?</li>\n",
    "    <li>Does the average number of casualties differ by Road Type?</li>\n",
    "    <li>Does the average number of casualties differ by accident severity?</li>\n",
    "    <li>Are multi-vehicle accidents more likely to be Serious or Fatal compared to single-vehicle?</li>\n",
    "    <li>Which light condition (daylight, darkness, etc.) is most associated with Fatal accidents?</li>\n",
    "    <li>Which district area has the highest number of accidents overall?</li>\n",
    "    <li>Which district records the highest average casualties per accident?</li>\n",
    "    <li>Urban vs Rural: Are fatal accidents more common in rural areas?</li>\n",
    "    <li>Which district has the highest number of Wet or damp road accidents?</li>\n",
    "    <li>Which road surface condition has the highest accident rate?</li>\n",
    "    <li>How does weather condition affect average casualties?</li>\n",
    "    <li>Which weather + light condition combination is the riskiest?</li>\n",
    "    <li>Which vehicle type is most frequently involved in accidents?</li>\n",
    "    <li>Which vehicle type is most likely to crash in darkness with completely no lighting?</li>\n",
    "    <li>Do fatal accidents occur at higher or lower latitudes (north vs south UK)?</li>\n",
    "    <li>Do motorcycle accidents increase casualty count more in rural or urban areas?</li>\n",
    "    <li>Which area has more accident? (Urban/Rural)</li>\n",
    "    <li>Which districts report the highest share of icy/frost accidents?</li>\n",
    "    <li>Are multi-vehicle accidents in wet weather more likely to be serious than in dry weather?</li>\n",
    "    <li>Is there a correlation between number of vehicles and number of casualties?</li>\n",
    "    <li>Are weekends more likely to have serious or fatal accidents compared to weekdays?</li>\n",
    "    <li>Do accidents occur more frequently in winter vs summer months?</li>\n",
    "</ol>"
   ]
  },
  {
   "cell_type": "code",
   "execution_count": 9,
   "id": "ccbbb3a1-ed94-4ece-baa5-a743afb5a46a",
   "metadata": {
    "scrolled": true
   },
   "outputs": [
    {
     "data": {
      "text/html": [
       "<div>\n",
       "<style scoped>\n",
       "    .dataframe tbody tr th:only-of-type {\n",
       "        vertical-align: middle;\n",
       "    }\n",
       "\n",
       "    .dataframe tbody tr th {\n",
       "        vertical-align: top;\n",
       "    }\n",
       "\n",
       "    .dataframe thead th {\n",
       "        text-align: right;\n",
       "    }\n",
       "</style>\n",
       "<table border=\"1\" class=\"dataframe\">\n",
       "  <thead>\n",
       "    <tr style=\"text-align: right;\">\n",
       "      <th></th>\n",
       "      <th>Index</th>\n",
       "      <th>Accident_Severity</th>\n",
       "      <th>Accident Date</th>\n",
       "      <th>Latitude</th>\n",
       "      <th>Light_Conditions</th>\n",
       "      <th>District Area</th>\n",
       "      <th>Longitude</th>\n",
       "      <th>Number_of_Casualties</th>\n",
       "      <th>Number_of_Vehicles</th>\n",
       "      <th>Road_Surface_Conditions</th>\n",
       "      <th>Road_Type</th>\n",
       "      <th>Urban_or_Rural_Area</th>\n",
       "      <th>Weather_Conditions</th>\n",
       "      <th>Vehicle_Type</th>\n",
       "      <th>Year</th>\n",
       "      <th>Month</th>\n",
       "      <th>Day</th>\n",
       "      <th>DaysOfWeek</th>\n",
       "    </tr>\n",
       "  </thead>\n",
       "  <tbody>\n",
       "    <tr>\n",
       "      <th>0</th>\n",
       "      <td>200701BS64157</td>\n",
       "      <td>Serious</td>\n",
       "      <td>2019-06-05</td>\n",
       "      <td>51.506187</td>\n",
       "      <td>Darkness - lights lit</td>\n",
       "      <td>Kensington and Chelsea</td>\n",
       "      <td>-0.209082</td>\n",
       "      <td>1</td>\n",
       "      <td>2</td>\n",
       "      <td>Dry</td>\n",
       "      <td>Single carriageway</td>\n",
       "      <td>Urban</td>\n",
       "      <td>Fine no high winds</td>\n",
       "      <td>Car</td>\n",
       "      <td>2019.0</td>\n",
       "      <td>6.0</td>\n",
       "      <td>5.0</td>\n",
       "      <td>2.0</td>\n",
       "    </tr>\n",
       "    <tr>\n",
       "      <th>1</th>\n",
       "      <td>200701BS65737</td>\n",
       "      <td>Serious</td>\n",
       "      <td>2019-07-02</td>\n",
       "      <td>51.495029</td>\n",
       "      <td>Daylight</td>\n",
       "      <td>Kensington and Chelsea</td>\n",
       "      <td>-0.173647</td>\n",
       "      <td>1</td>\n",
       "      <td>2</td>\n",
       "      <td>Wet or damp</td>\n",
       "      <td>Single carriageway</td>\n",
       "      <td>Urban</td>\n",
       "      <td>Raining no high winds</td>\n",
       "      <td>Car</td>\n",
       "      <td>2019.0</td>\n",
       "      <td>7.0</td>\n",
       "      <td>2.0</td>\n",
       "      <td>1.0</td>\n",
       "    </tr>\n",
       "    <tr>\n",
       "      <th>2</th>\n",
       "      <td>200701BS66127</td>\n",
       "      <td>Serious</td>\n",
       "      <td>NaT</td>\n",
       "      <td>51.517715</td>\n",
       "      <td>Darkness - lighting unknown</td>\n",
       "      <td>Kensington and Chelsea</td>\n",
       "      <td>-0.210215</td>\n",
       "      <td>1</td>\n",
       "      <td>3</td>\n",
       "      <td>Dry</td>\n",
       "      <td>Single carriageway</td>\n",
       "      <td>Urban</td>\n",
       "      <td>Fine no high winds</td>\n",
       "      <td>Taxi/Private hire car</td>\n",
       "      <td>NaN</td>\n",
       "      <td>NaN</td>\n",
       "      <td>NaN</td>\n",
       "      <td>NaN</td>\n",
       "    </tr>\n",
       "    <tr>\n",
       "      <th>3</th>\n",
       "      <td>200701BS66128</td>\n",
       "      <td>Serious</td>\n",
       "      <td>NaT</td>\n",
       "      <td>51.495478</td>\n",
       "      <td>Daylight</td>\n",
       "      <td>Kensington and Chelsea</td>\n",
       "      <td>-0.202731</td>\n",
       "      <td>1</td>\n",
       "      <td>4</td>\n",
       "      <td>Dry</td>\n",
       "      <td>Single carriageway</td>\n",
       "      <td>Urban</td>\n",
       "      <td>Fine no high winds</td>\n",
       "      <td>Bus or coach (17 or more pass seats)</td>\n",
       "      <td>NaN</td>\n",
       "      <td>NaN</td>\n",
       "      <td>NaN</td>\n",
       "      <td>NaN</td>\n",
       "    </tr>\n",
       "    <tr>\n",
       "      <th>4</th>\n",
       "      <td>200701BS66837</td>\n",
       "      <td>Slight</td>\n",
       "      <td>2019-09-03</td>\n",
       "      <td>51.488576</td>\n",
       "      <td>Darkness - lights lit</td>\n",
       "      <td>Kensington and Chelsea</td>\n",
       "      <td>-0.192487</td>\n",
       "      <td>1</td>\n",
       "      <td>2</td>\n",
       "      <td>Dry</td>\n",
       "      <td>Single carriageway</td>\n",
       "      <td>Urban</td>\n",
       "      <td>Fine no high winds</td>\n",
       "      <td>Other vehicle</td>\n",
       "      <td>2019.0</td>\n",
       "      <td>9.0</td>\n",
       "      <td>3.0</td>\n",
       "      <td>1.0</td>\n",
       "    </tr>\n",
       "    <tr>\n",
       "      <th>...</th>\n",
       "      <td>...</td>\n",
       "      <td>...</td>\n",
       "      <td>...</td>\n",
       "      <td>...</td>\n",
       "      <td>...</td>\n",
       "      <td>...</td>\n",
       "      <td>...</td>\n",
       "      <td>...</td>\n",
       "      <td>...</td>\n",
       "      <td>...</td>\n",
       "      <td>...</td>\n",
       "      <td>...</td>\n",
       "      <td>...</td>\n",
       "      <td>...</td>\n",
       "      <td>...</td>\n",
       "      <td>...</td>\n",
       "      <td>...</td>\n",
       "      <td>...</td>\n",
       "    </tr>\n",
       "    <tr>\n",
       "      <th>660674</th>\n",
       "      <td>201091NM01760</td>\n",
       "      <td>Slight</td>\n",
       "      <td>NaT</td>\n",
       "      <td>57.374005</td>\n",
       "      <td>Daylight</td>\n",
       "      <td>Highland</td>\n",
       "      <td>-3.467828</td>\n",
       "      <td>2</td>\n",
       "      <td>1</td>\n",
       "      <td>Dry</td>\n",
       "      <td>Single carriageway</td>\n",
       "      <td>Rural</td>\n",
       "      <td>Fine no high winds</td>\n",
       "      <td>Car</td>\n",
       "      <td>NaN</td>\n",
       "      <td>NaN</td>\n",
       "      <td>NaN</td>\n",
       "      <td>NaN</td>\n",
       "    </tr>\n",
       "    <tr>\n",
       "      <th>660675</th>\n",
       "      <td>201091NM01881</td>\n",
       "      <td>Slight</td>\n",
       "      <td>NaT</td>\n",
       "      <td>57.232273</td>\n",
       "      <td>Darkness - no lighting</td>\n",
       "      <td>Highland</td>\n",
       "      <td>-3.809281</td>\n",
       "      <td>1</td>\n",
       "      <td>1</td>\n",
       "      <td>Frost or ice</td>\n",
       "      <td>Single carriageway</td>\n",
       "      <td>Rural</td>\n",
       "      <td>Fine no high winds</td>\n",
       "      <td>Car</td>\n",
       "      <td>NaN</td>\n",
       "      <td>NaN</td>\n",
       "      <td>NaN</td>\n",
       "      <td>NaN</td>\n",
       "    </tr>\n",
       "    <tr>\n",
       "      <th>660676</th>\n",
       "      <td>201091NM01935</td>\n",
       "      <td>Slight</td>\n",
       "      <td>NaT</td>\n",
       "      <td>57.585044</td>\n",
       "      <td>Daylight</td>\n",
       "      <td>Highland</td>\n",
       "      <td>-3.862727</td>\n",
       "      <td>1</td>\n",
       "      <td>3</td>\n",
       "      <td>Frost or ice</td>\n",
       "      <td>Single carriageway</td>\n",
       "      <td>Rural</td>\n",
       "      <td>Fine no high winds</td>\n",
       "      <td>Car</td>\n",
       "      <td>NaN</td>\n",
       "      <td>NaN</td>\n",
       "      <td>NaN</td>\n",
       "      <td>NaN</td>\n",
       "    </tr>\n",
       "    <tr>\n",
       "      <th>660677</th>\n",
       "      <td>201091NM01964</td>\n",
       "      <td>Serious</td>\n",
       "      <td>NaT</td>\n",
       "      <td>57.214898</td>\n",
       "      <td>Darkness - no lighting</td>\n",
       "      <td>Highland</td>\n",
       "      <td>-3.823997</td>\n",
       "      <td>1</td>\n",
       "      <td>2</td>\n",
       "      <td>Wet or damp</td>\n",
       "      <td>Single carriageway</td>\n",
       "      <td>Rural</td>\n",
       "      <td>Fine no high winds</td>\n",
       "      <td>Motorcycle over 500cc</td>\n",
       "      <td>NaN</td>\n",
       "      <td>NaN</td>\n",
       "      <td>NaN</td>\n",
       "      <td>NaN</td>\n",
       "    </tr>\n",
       "    <tr>\n",
       "      <th>660678</th>\n",
       "      <td>201091NM02142</td>\n",
       "      <td>Serious</td>\n",
       "      <td>NaT</td>\n",
       "      <td>57.575210</td>\n",
       "      <td>Daylight</td>\n",
       "      <td>Highland</td>\n",
       "      <td>-3.895673</td>\n",
       "      <td>1</td>\n",
       "      <td>1</td>\n",
       "      <td>Wet or damp</td>\n",
       "      <td>Dual carriageway</td>\n",
       "      <td>Rural</td>\n",
       "      <td>Snowing no high winds</td>\n",
       "      <td>Car</td>\n",
       "      <td>NaN</td>\n",
       "      <td>NaN</td>\n",
       "      <td>NaN</td>\n",
       "      <td>NaN</td>\n",
       "    </tr>\n",
       "  </tbody>\n",
       "</table>\n",
       "<p>660679 rows × 18 columns</p>\n",
       "</div>"
      ],
      "text/plain": [
       "                Index Accident_Severity Accident Date   Latitude  \\\n",
       "0       200701BS64157           Serious    2019-06-05  51.506187   \n",
       "1       200701BS65737           Serious    2019-07-02  51.495029   \n",
       "2       200701BS66127           Serious           NaT  51.517715   \n",
       "3       200701BS66128           Serious           NaT  51.495478   \n",
       "4       200701BS66837            Slight    2019-09-03  51.488576   \n",
       "...               ...               ...           ...        ...   \n",
       "660674  201091NM01760            Slight           NaT  57.374005   \n",
       "660675  201091NM01881            Slight           NaT  57.232273   \n",
       "660676  201091NM01935            Slight           NaT  57.585044   \n",
       "660677  201091NM01964           Serious           NaT  57.214898   \n",
       "660678  201091NM02142           Serious           NaT  57.575210   \n",
       "\n",
       "                   Light_Conditions           District Area  Longitude  \\\n",
       "0             Darkness - lights lit  Kensington and Chelsea  -0.209082   \n",
       "1                          Daylight  Kensington and Chelsea  -0.173647   \n",
       "2       Darkness - lighting unknown  Kensington and Chelsea  -0.210215   \n",
       "3                          Daylight  Kensington and Chelsea  -0.202731   \n",
       "4             Darkness - lights lit  Kensington and Chelsea  -0.192487   \n",
       "...                             ...                     ...        ...   \n",
       "660674                     Daylight                Highland  -3.467828   \n",
       "660675       Darkness - no lighting                Highland  -3.809281   \n",
       "660676                     Daylight                Highland  -3.862727   \n",
       "660677       Darkness - no lighting                Highland  -3.823997   \n",
       "660678                     Daylight                Highland  -3.895673   \n",
       "\n",
       "        Number_of_Casualties  Number_of_Vehicles Road_Surface_Conditions  \\\n",
       "0                          1                   2                     Dry   \n",
       "1                          1                   2             Wet or damp   \n",
       "2                          1                   3                     Dry   \n",
       "3                          1                   4                     Dry   \n",
       "4                          1                   2                     Dry   \n",
       "...                      ...                 ...                     ...   \n",
       "660674                     2                   1                     Dry   \n",
       "660675                     1                   1            Frost or ice   \n",
       "660676                     1                   3            Frost or ice   \n",
       "660677                     1                   2             Wet or damp   \n",
       "660678                     1                   1             Wet or damp   \n",
       "\n",
       "                 Road_Type Urban_or_Rural_Area     Weather_Conditions  \\\n",
       "0       Single carriageway               Urban     Fine no high winds   \n",
       "1       Single carriageway               Urban  Raining no high winds   \n",
       "2       Single carriageway               Urban     Fine no high winds   \n",
       "3       Single carriageway               Urban     Fine no high winds   \n",
       "4       Single carriageway               Urban     Fine no high winds   \n",
       "...                    ...                 ...                    ...   \n",
       "660674  Single carriageway               Rural     Fine no high winds   \n",
       "660675  Single carriageway               Rural     Fine no high winds   \n",
       "660676  Single carriageway               Rural     Fine no high winds   \n",
       "660677  Single carriageway               Rural     Fine no high winds   \n",
       "660678    Dual carriageway               Rural  Snowing no high winds   \n",
       "\n",
       "                                Vehicle_Type    Year  Month  Day  DaysOfWeek  \n",
       "0                                        Car  2019.0    6.0  5.0         2.0  \n",
       "1                                        Car  2019.0    7.0  2.0         1.0  \n",
       "2                      Taxi/Private hire car     NaN    NaN  NaN         NaN  \n",
       "3       Bus or coach (17 or more pass seats)     NaN    NaN  NaN         NaN  \n",
       "4                              Other vehicle  2019.0    9.0  3.0         1.0  \n",
       "...                                      ...     ...    ...  ...         ...  \n",
       "660674                                   Car     NaN    NaN  NaN         NaN  \n",
       "660675                                   Car     NaN    NaN  NaN         NaN  \n",
       "660676                                   Car     NaN    NaN  NaN         NaN  \n",
       "660677                 Motorcycle over 500cc     NaN    NaN  NaN         NaN  \n",
       "660678                                   Car     NaN    NaN  NaN         NaN  \n",
       "\n",
       "[660679 rows x 18 columns]"
      ]
     },
     "execution_count": 9,
     "metadata": {},
     "output_type": "execute_result"
    }
   ],
   "source": [
    "data"
   ]
  },
  {
   "cell_type": "markdown",
   "id": "5c5ffe97-0fa8-4fd7-b5ff-c6d5889e2bc7",
   "metadata": {},
   "source": [
    "<h3>1. Which district reports the highest proportion of Fatal accidents?</h3>"
   ]
  },
  {
   "cell_type": "code",
   "execution_count": 10,
   "id": "a2d83df2-6b36-41a4-adfb-3d72ded7aca8",
   "metadata": {},
   "outputs": [
    {
     "data": {
      "image/png": "[encoded data removed]",
      "text/plain": [
       "<Figure size 640x480 with 1 Axes>"
      ]
     },
     "metadata": {},
     "output_type": "display_data"
    }
   ],
   "source": [
    "severity = data[data['Accident_Severity'] == 'Fatal'].groupby('District Area').size()\n",
    "top_10_districts = severity.sort_values(ascending=False).head(10)\n",
    "\n",
    "plt.bar(x = top_10_districts.index, height = top_10_districts.values)\n",
    "plt.xticks(rotation=90)\n",
    "plt.show()"
   ]
  },
  {
   "cell_type": "code",
   "execution_count": 11,
   "id": "5b3cae43-fcf8-4dd2-ba44-3b0be44823c7",
   "metadata": {},
   "outputs": [
    {
     "name": "stdout",
     "output_type": "stream",
     "text": [
      "Birmingham - 105\n"
     ]
    }
   ],
   "source": [
    "mostFatal = severity.idxmax()\n",
    "mostFatalCount = severity.max()\n",
    "print(f\"{mostFatal} - {mostFatalCount}\")"
   ]
  },
  {
   "cell_type": "markdown",
   "id": "46606006-6311-4397-a65c-e36c64ee754b",
   "metadata": {},
   "source": [
    "<h3>INSIGHT 1</h3>\n",
    "\n",
    "<p>Birmingham has the highest number of reported fatal accidents with 105 compared to the other districts listed. This could be due to a number of factors, such as higher traffic volume or specific road conditions in that area</p>\n",
    "<hr>"
   ]
  },
  {
   "cell_type": "markdown",
   "id": "c8046605-0dec-443a-aac7-e58a84eb7dbb",
   "metadata": {},
   "source": [
    "<h3>2. Does the average number of casualties differ by Road Type?</h3>"
   ]
  },
  {
   "cell_type": "code",
   "execution_count": 12,
   "id": "6f5e90a5-add3-4e5e-bd3e-8b32ac168328",
   "metadata": {},
   "outputs": [
    {
     "data": {
      "image/png": "[encoded data removed]",
      "text/plain": [
       "<Figure size 640x480 with 1 Axes>"
      ]
     },
     "metadata": {},
     "output_type": "display_data"
    }
   ],
   "source": [
    "roadType = data.groupby('Road_Type')['Number_of_Casualties'].mean()\n",
    "roadType\n",
    "\n",
    "plt.pie(roadType, labels = roadType.index, autopct = '%1.1f%%')\n",
    "plt.show()"
   ]
  },
  {
   "cell_type": "markdown",
   "id": "1e98a53a-122e-4295-bf2b-4d4294e0a86f",
   "metadata": {},
   "source": [
    "<h3>INSIGHT 2</h3>\n",
    "\n",
    "<p>From these averages, it seems like dual carriageways have a slightly higher average number of casualties compared to other road types, while oneway streets have the lowest. This might be because dual carriageways often have higher speed limits and more lanes</p>\n",
    "<hr>"
   ]
  },
  {
   "cell_type": "markdown",
   "id": "a5067e15-abe6-44a1-80aa-ac3694fb37a1",
   "metadata": {},
   "source": [
    "<h3>3. Does the average number of casualties differ by accident severity?</h3>"
   ]
  },
  {
   "cell_type": "code",
   "execution_count": 13,
   "id": "5d7ae755-0440-4eb6-b5e2-f9cd930a3e73",
   "metadata": {},
   "outputs": [
    {
     "data": {
      "image/png": "[encoded data removed]",
      "text/plain": [
       "<Figure size 640x480 with 1 Axes>"
      ]
     },
     "metadata": {},
     "output_type": "display_data"
    }
   ],
   "source": [
    "roadType = data.groupby('Accident_Severity')['Number_of_Casualties'].mean()\n",
    "roadType\n",
    "\n",
    "plt.pie(roadType, labels = roadType.index, autopct = '%1.1f%%')\n",
    "plt.show()"
   ]
  },
  {
   "cell_type": "markdown",
   "id": "19119377-1ed1-46a6-890a-aed638a6d4ef",
   "metadata": {},
   "source": [
    "<h3>INSIGHT 3</h3>\n",
    "\n",
    "<p>The data shows that fatal accidents tend to have a higher average number of casualties compared to serious or slight accidents. This makes sense intuitively, as more severe accidents are likely to involve more people and result in more injuries or fatalities.</p>\n",
    "<hr>"
   ]
  },
  {
   "cell_type": "markdown",
   "id": "5bfb849a-c3ac-43a0-b0df-e0466841fa8d",
   "metadata": {},
   "source": [
    "<h3>4. Are multi-vehicle accidents more likely to be Serious or Fatal compared to single-vehicle?</h3>"
   ]
  },
  {
   "cell_type": "code",
   "execution_count": 14,
   "id": "1db392d5-fbce-470f-b6d8-70ebd7b6a511",
   "metadata": {},
   "outputs": [
    {
     "data": {
      "text/html": [
       "<div>\n",
       "<style scoped>\n",
       "    .dataframe tbody tr th:only-of-type {\n",
       "        vertical-align: middle;\n",
       "    }\n",
       "\n",
       "    .dataframe tbody tr th {\n",
       "        vertical-align: top;\n",
       "    }\n",
       "\n",
       "    .dataframe thead th {\n",
       "        text-align: right;\n",
       "    }\n",
       "</style>\n",
       "<table border=\"1\" class=\"dataframe\">\n",
       "  <thead>\n",
       "    <tr style=\"text-align: right;\">\n",
       "      <th>Accident_Severity</th>\n",
       "      <th>Fatal</th>\n",
       "      <th>Serious</th>\n",
       "      <th>Slight</th>\n",
       "    </tr>\n",
       "    <tr>\n",
       "      <th>Number_of_Vehicles</th>\n",
       "      <th></th>\n",
       "      <th></th>\n",
       "      <th></th>\n",
       "    </tr>\n",
       "  </thead>\n",
       "  <tbody>\n",
       "    <tr>\n",
       "      <th>False</th>\n",
       "      <td>3885</td>\n",
       "      <td>38940</td>\n",
       "      <td>157962</td>\n",
       "    </tr>\n",
       "    <tr>\n",
       "      <th>True</th>\n",
       "      <td>4776</td>\n",
       "      <td>49277</td>\n",
       "      <td>405839</td>\n",
       "    </tr>\n",
       "  </tbody>\n",
       "</table>\n",
       "</div>"
      ],
      "text/plain": [
       "Accident_Severity   Fatal  Serious  Slight\n",
       "Number_of_Vehicles                        \n",
       "False                3885    38940  157962\n",
       "True                 4776    49277  405839"
      ]
     },
     "execution_count": 14,
     "metadata": {},
     "output_type": "execute_result"
    }
   ],
   "source": [
    "multiVehicle = data['Number_of_Vehicles'] >= 2\n",
    "singleVehicle = !multiVehicle\n",
    "\n",
    "multiVehicleAcc = data.groupby(multiVehicle)['Accident_Severity'].value_counts().unstack()\n",
    "multiVehicleAcc\n",
    "#whereas TRUE means it is a multi-vehicle accident.\n",
    "\n"
   ]
  },
  {
   "cell_type": "markdown",
   "id": "c54713da-9d6e-499c-80b8-76b4e4c70029",
   "metadata": {},
   "source": [
    "<h3>INSIGHT 4</h3>\n",
    "\n",
    "<p>Looking at the numbers, All accdent severity accident counts are higher for multi-vehicle accidents compared to single-vehicle accidents. This suggests that multi-vehicle accidents are indeed more likely to result in serious or fatal outcomes</p>\n",
    "<hr>"
   ]
  },
  {
   "cell_type": "markdown",
   "id": "f27261e8-b3de-4721-bc3c-4159cad06b5d",
   "metadata": {},
   "source": [
    "<h3>INSIGHT 5</h3>\n",
    "\n",
    "<p>However, the proportion of fatal accidents is higher in single-vehicle accidents (3885/200787 ≈ 0.0193) compared to multi-vehicle accidents (4776/457035 ≈ 0.0104). This indicates that while multi-vehicle accidents have a higher number of fatalities, single-vehicle accidents are more likely to result in a fatality.</p>\n",
    "<hr>"
   ]
  },
  {
   "cell_type": "markdown",
   "id": "7e447c02-1d63-4fc7-b7ae-d798c0caf4ce",
   "metadata": {},
   "source": [
    "<h3>5. Which light condition (daylight, darkness, etc.) is most associated with Fatal accidents?</h3>"
   ]
  },
  {
   "cell_type": "code",
   "execution_count": 15,
   "id": "49fb28c9-edf3-4e7e-bb3e-c74ab5a0ddbb",
   "metadata": {
    "scrolled": true
   },
   "outputs": [
    {
     "data": {
      "image/png": "[encoded data removed]",
      "text/plain": [
       "<Figure size 640x480 with 1 Axes>"
      ]
     },
     "metadata": {},
     "output_type": "display_data"
    }
   ],
   "source": [
    "lightCond = data[data['Accident_Severity']== 'Fatal'].groupby('Light_Conditions').size()\n",
    "lightCond\n",
    "\n",
    "plt.pie(lightCond, labels = lightCond.index, autopct = '%1.1f%%' )\n",
    "plt.show()"
   ]
  },
  {
   "cell_type": "markdown",
   "id": "c8d97c54-b45f-426e-9345-1e430b329af4",
   "metadata": {},
   "source": [
    "<h3>INSIGHT 6</h3>\n",
    "\n",
    "<p>Daylight has the highest number of fatal accidents with 5076 accidents, which is kinda surprising at first look. But, thinking about it, there are probably just way more cars on the road during the day, so even if the roads are safer then, the sheer volume of traffic could lead to more accidents overall.</p>\n",
    "<hr>"
   ]
  },
  {
   "cell_type": "markdown",
   "id": "890ffc74-5319-4863-be65-4b2f1fcc3a3e",
   "metadata": {},
   "source": [
    "<h3>INSIGHT 7</h3>\n",
    "\n",
    "<p>Darkness with lights lit is the second most common condition for fatal accidents, suggesting that even with streetlights, nighttime driving remains hazardous.</p>\n",
    "<hr>"
   ]
  },
  {
   "cell_type": "markdown",
   "id": "0d8221ef-d3e0-4367-afdf-ace210d4f292",
   "metadata": {},
   "source": [
    "<h3>6. Which district area has the highest number of accidents overall?</h3>"
   ]
  },
  {
   "cell_type": "code",
   "execution_count": 16,
   "id": "e159b405-ee06-439d-895f-95474aa5603c",
   "metadata": {},
   "outputs": [
    {
     "data": {
      "image/png": "[encoded data removed]",
      "text/plain": [
       "<Figure size 640x480 with 1 Axes>"
      ]
     },
     "metadata": {},
     "output_type": "display_data"
    }
   ],
   "source": [
    "topDis = data['District Area'].value_counts()\n",
    "\n",
    "top5 = topDis.sort_values(ascending= False).head(5)\n",
    "\n",
    "plt.bar(x= top5.index, height = top5)\n",
    "plt.xticks(rotation= 45)\n",
    "plt.show()"
   ]
  },
  {
   "cell_type": "markdown",
   "id": "c125015f-7c19-4655-93e1-852a9aa4a86b",
   "metadata": {},
   "source": [
    "<h3>INSIGHT 8</h3>\n",
    "\n",
    "<p>Birmingham definitely stands out with a much higher number of accidents with 13491 accidents compared to other districts like Leeds or Manchester</p>\n",
    "<hr>"
   ]
  },
  {
   "cell_type": "markdown",
   "id": "71b45e20-cd58-45de-99bb-38957f8d2ad9",
   "metadata": {},
   "source": [
    "<h3>7. Which district records the highest average casualties per accident?</h3>"
   ]
  },
  {
   "cell_type": "code",
   "execution_count": 17,
   "id": "f46dffb1-e1a5-451c-b13e-f54db75dd50c",
   "metadata": {},
   "outputs": [
    {
     "name": "stdout",
     "output_type": "stream",
     "text": [
      "Blaeu Gwent - 1.69\n"
     ]
    }
   ],
   "source": [
    "avgCasualties = data.groupby('District Area')['Number_of_Casualties'].mean()\n",
    "topDis = avgCasualties.idxmax()\n",
    "topCas= avgCasualties.max()\n",
    "print(f'{topDis} - {topCas.round(2)}')"
   ]
  },
  {
   "cell_type": "markdown",
   "id": "de639fd5-32ad-49b0-93ef-a993ac02ff09",
   "metadata": {},
   "source": [
    "<h3>INSIGHT 9</h3>\n",
    "\n",
    "<p>Blaeu Gwent has the highest average casualties per accident with 1.69. This could mean that when accidents happen in Blaeu Gwent, they tend to be more severe or involve more people on average compared to other districts.</p>\n",
    "<hr>"
   ]
  },
  {
   "cell_type": "markdown",
   "id": "4b82def1-237b-455b-ae61-4cdead4fddc2",
   "metadata": {},
   "source": [
    "<h3>8. Urban vs Rural: Are fatal accidents more common in rural areas?</h3>"
   ]
  },
  {
   "cell_type": "code",
   "execution_count": 18,
   "id": "3a83c6ba-4a75-49ce-a9ae-bc151250b36b",
   "metadata": {},
   "outputs": [
    {
     "data": {
      "text/plain": [
       "Urban_or_Rural_Area\n",
       "Rural          5601\n",
       "Unallocated       0\n",
       "Urban          3060\n",
       "dtype: int64"
      ]
     },
     "execution_count": 18,
     "metadata": {},
     "output_type": "execute_result"
    }
   ],
   "source": [
    "urbanOrRural = data[data['Accident_Severity'] == \"Fatal\"].groupby('Urban_or_Rural_Area').size()\n",
    "urbanOrRural"
   ]
  },
  {
   "cell_type": "code",
   "execution_count": 70,
   "id": "dfcc5b8b-a2d8-4339-8b70-c9a9286e38f4",
   "metadata": {},
   "outputs": [
    {
     "data": {
      "image/png": "[encoded data removed]",
      "text/plain": [
       "<Figure size 640x480 with 1 Axes>"
      ]
     },
     "metadata": {},
     "output_type": "display_data"
    }
   ],
   "source": [
    "plt.pie(urbanOrRural, labels= urbanOrRural.index, autopct = \"%1.1f%%\")\n",
    "plt.show()"
   ]
  },
  {
   "cell_type": "markdown",
   "id": "f4b12948-530d-4eb0-931d-f544b17ce616",
   "metadata": {},
   "source": [
    "<h3>INSIGHT 10</h3>\n",
    "\n",
    "<p>It looks like fatal accidents are more common in rural areas than in urban areas with 5601 fatal accidents. This might be because rural roads often have fewer safety features like streetlights or divided lanes</p>\n",
    "<hr>"
   ]
  },
  {
   "cell_type": "markdown",
   "id": "76d9f238-a120-489f-acf3-54052c153047",
   "metadata": {},
   "source": [
    "<h3>9. Which district has the highest number of Wet or damp road accidents?</h3>"
   ]
  },
  {
   "cell_type": "code",
   "execution_count": 71,
   "id": "0fe1cc6d-dd8a-41ba-9f27-53dec0704760",
   "metadata": {},
   "outputs": [
    {
     "name": "stdout",
     "output_type": "stream",
     "text": [
      "Birmingham - 3701\n"
     ]
    }
   ],
   "source": [
    "#data.groupby('District Area')['Road_Surface_Conditions'].size()\n",
    "wetAccidents = data[data['Road_Surface_Conditions'] == \"Wet or damp\"].groupby('District Area').size()\n",
    "\n",
    "mostWetAcc = wetAccidents.idxmax()\n",
    "mostWetNum = wetAccidents.max()\n",
    "print(f'{mostWetAcc} - {mostWetNum}')"
   ]
  },
  {
   "cell_type": "code",
   "execution_count": 74,
   "id": "8ce811ce-b3ae-49e7-85de-efc18feb8a77",
   "metadata": {},
   "outputs": [
    {
     "data": {
      "image/png": "[encoded data removed]",
      "text/plain": [
       "<Figure size 640x480 with 1 Axes>"
      ]
     },
     "metadata": {},
     "output_type": "display_data"
    }
   ],
   "source": [
    "top5 = wetAccidents.sort_values(ascending= False).head(10)\n",
    "\n",
    "plt.bar(x= top5.index, height = top5)\n",
    "plt.xticks(rotation= 45)\n",
    "plt.title('Top 10 Districts with the highest number of Wet or damp road accidents')\n",
    "plt.show()"
   ]
  },
  {
   "cell_type": "markdown",
   "id": "c4aa8fd7-99b5-4fa0-a12b-84dddb799699",
   "metadata": {},
   "source": [
    "<h3>INSIGHT 11</h3>\n",
    "\n",
    "<p>Birmingham has the highest number of accidents on wet or damp roads, with a total of 3701</p>\n",
    "<hr>"
   ]
  },
  {
   "cell_type": "markdown",
   "id": "ad0eb3fd-a874-4066-8251-e602d0eeef1e",
   "metadata": {},
   "source": [
    "<h3>10. Which road surface condition has the highest accident rate?</h3>"
   ]
  },
  {
   "cell_type": "code",
   "execution_count": 77,
   "id": "0d8a8749-3d7f-4681-a974-31188c3b7afb",
   "metadata": {},
   "outputs": [
    {
     "data": {
      "image/png": "[encoded data removed]",
      "text/plain": [
       "<Figure size 640x480 with 1 Axes>"
      ]
     },
     "metadata": {},
     "output_type": "display_data"
    }
   ],
   "source": [
    "roadSur = data['Road_Surface_Conditions'].value_counts()\n",
    "\n",
    "plt.pie(roadSur, labels= roadSur.index, autopct = \"%1.1f%%\")\n",
    "plt.show()"
   ]
  },
  {
   "cell_type": "markdown",
   "id": "e22f3182-4fad-4df0-8bf2-ffb4f642320a",
   "metadata": {},
   "source": [
    "<h3>INSIGHT 12</h3>\n",
    "\n",
    "<p>dry road conditions have the highest accident rate, with 447821 accidents</p>\n",
    "<hr>"
   ]
  },
  {
   "cell_type": "markdown",
   "id": "904562c5-3e4c-491f-be39-2abead10a949",
   "metadata": {},
   "source": [
    "<h3>11. How does weather condition affect average casualties?</h3>"
   ]
  },
  {
   "cell_type": "code",
   "execution_count": 82,
   "id": "5dadfd95-4fa3-48d5-ac76-55a51279c3f2",
   "metadata": {},
   "outputs": [
    {
     "data": {
      "image/png": "[encoded data removed]",
      "text/plain": [
       "<Figure size 640x480 with 1 Axes>"
      ]
     },
     "metadata": {},
     "output_type": "display_data"
    }
   ],
   "source": [
    "weather = data.groupby('Weather_Conditions')['Number_of_Casualties'].mean()\n",
    "\n",
    "plt.bar(x = weather.index, height= weather)\n",
    "plt.xticks(rotation= 45)\n",
    "plt.show()"
   ]
  },
  {
   "cell_type": "markdown",
   "id": "848cb928-63ec-454b-9e3c-7df7f1f6ff7c",
   "metadata": {},
   "source": [
    "<h3>INSIGHT 13</h3>\n",
    "\n",
    "<p>It looks like fog or mist has the highest average casualties, with an average of 1.45 casualties per accident. This makes sense because fog can really reduce visibility and make driving more dangerous.</p>\n",
    "<hr>"
   ]
  },
  {
   "cell_type": "markdown",
   "id": "f8aab60f-8c1b-4e5f-a11b-1b0507c1abcb",
   "metadata": {},
   "source": [
    "<h3>12. Which weather + light condition combination is the riskiest?</h3>"
   ]
  },
  {
   "cell_type": "code",
   "execution_count": 22,
   "id": "67df3308-89a8-4c3c-997b-611683ae08f7",
   "metadata": {},
   "outputs": [
    {
     "data": {
      "text/html": [
       "<div>\n",
       "<style scoped>\n",
       "    .dataframe tbody tr th:only-of-type {\n",
       "        vertical-align: middle;\n",
       "    }\n",
       "\n",
       "    .dataframe tbody tr th {\n",
       "        vertical-align: top;\n",
       "    }\n",
       "\n",
       "    .dataframe thead th {\n",
       "        text-align: right;\n",
       "    }\n",
       "</style>\n",
       "<table border=\"1\" class=\"dataframe\">\n",
       "  <thead>\n",
       "    <tr style=\"text-align: right;\">\n",
       "      <th>Light_Conditions</th>\n",
       "      <th>Darkness - lighting unknown</th>\n",
       "      <th>Darkness - lights lit</th>\n",
       "      <th>Darkness - lights unlit</th>\n",
       "      <th>Darkness - no lighting</th>\n",
       "      <th>Daylight</th>\n",
       "    </tr>\n",
       "    <tr>\n",
       "      <th>Weather_Conditions</th>\n",
       "      <th></th>\n",
       "      <th></th>\n",
       "      <th></th>\n",
       "      <th></th>\n",
       "      <th></th>\n",
       "    </tr>\n",
       "  </thead>\n",
       "  <tbody>\n",
       "    <tr>\n",
       "      <th>Fine + high winds</th>\n",
       "      <td>1.389831</td>\n",
       "      <td>1.373110</td>\n",
       "      <td>1.470588</td>\n",
       "      <td>1.523869</td>\n",
       "      <td>1.370428</td>\n",
       "    </tr>\n",
       "    <tr>\n",
       "      <th>Fine no high winds</th>\n",
       "      <td>1.307144</td>\n",
       "      <td>1.364376</td>\n",
       "      <td>1.321490</td>\n",
       "      <td>1.557324</td>\n",
       "      <td>1.331161</td>\n",
       "    </tr>\n",
       "    <tr>\n",
       "      <th>Fog or mist</th>\n",
       "      <td>1.369231</td>\n",
       "      <td>1.436482</td>\n",
       "      <td>1.297297</td>\n",
       "      <td>1.469838</td>\n",
       "      <td>1.460134</td>\n",
       "    </tr>\n",
       "    <tr>\n",
       "      <th>Other</th>\n",
       "      <td>1.258065</td>\n",
       "      <td>1.360608</td>\n",
       "      <td>1.237762</td>\n",
       "      <td>1.474674</td>\n",
       "      <td>1.332871</td>\n",
       "    </tr>\n",
       "    <tr>\n",
       "      <th>Raining + high winds</th>\n",
       "      <td>1.324324</td>\n",
       "      <td>1.364971</td>\n",
       "      <td>1.575342</td>\n",
       "      <td>1.527056</td>\n",
       "      <td>1.416633</td>\n",
       "    </tr>\n",
       "    <tr>\n",
       "      <th>Raining no high winds</th>\n",
       "      <td>1.301127</td>\n",
       "      <td>1.392526</td>\n",
       "      <td>1.350763</td>\n",
       "      <td>1.536405</td>\n",
       "      <td>1.401230</td>\n",
       "    </tr>\n",
       "    <tr>\n",
       "      <th>Snowing + high winds</th>\n",
       "      <td>1.400000</td>\n",
       "      <td>1.468880</td>\n",
       "      <td>1.400000</td>\n",
       "      <td>1.444444</td>\n",
       "      <td>1.381898</td>\n",
       "    </tr>\n",
       "    <tr>\n",
       "      <th>Snowing no high winds</th>\n",
       "      <td>1.265957</td>\n",
       "      <td>1.318928</td>\n",
       "      <td>1.233333</td>\n",
       "      <td>1.392109</td>\n",
       "      <td>1.345036</td>\n",
       "    </tr>\n",
       "  </tbody>\n",
       "</table>\n",
       "</div>"
      ],
      "text/plain": [
       "Light_Conditions       Darkness - lighting unknown  Darkness - lights lit  \\\n",
       "Weather_Conditions                                                          \n",
       "Fine + high winds                         1.389831               1.373110   \n",
       "Fine no high winds                        1.307144               1.364376   \n",
       "Fog or mist                               1.369231               1.436482   \n",
       "Other                                     1.258065               1.360608   \n",
       "Raining + high winds                      1.324324               1.364971   \n",
       "Raining no high winds                     1.301127               1.392526   \n",
       "Snowing + high winds                      1.400000               1.468880   \n",
       "Snowing no high winds                     1.265957               1.318928   \n",
       "\n",
       "Light_Conditions       Darkness - lights unlit  Darkness - no lighting  \\\n",
       "Weather_Conditions                                                       \n",
       "Fine + high winds                     1.470588                1.523869   \n",
       "Fine no high winds                    1.321490                1.557324   \n",
       "Fog or mist                           1.297297                1.469838   \n",
       "Other                                 1.237762                1.474674   \n",
       "Raining + high winds                  1.575342                1.527056   \n",
       "Raining no high winds                 1.350763                1.536405   \n",
       "Snowing + high winds                  1.400000                1.444444   \n",
       "Snowing no high winds                 1.233333                1.392109   \n",
       "\n",
       "Light_Conditions       Daylight  \n",
       "Weather_Conditions               \n",
       "Fine + high winds      1.370428  \n",
       "Fine no high winds     1.331161  \n",
       "Fog or mist            1.460134  \n",
       "Other                  1.332871  \n",
       "Raining + high winds   1.416633  \n",
       "Raining no high winds  1.401230  \n",
       "Snowing + high winds   1.381898  \n",
       "Snowing no high winds  1.345036  "
      ]
     },
     "execution_count": 22,
     "metadata": {},
     "output_type": "execute_result"
    }
   ],
   "source": [
    "riskiestDf = data.groupby(['Weather_Conditions', 'Light_Conditions'])['Number_of_Casualties'].mean().unstack()\n",
    "riskiestDf"
   ]
  },
  {
   "cell_type": "code",
   "execution_count": 23,
   "id": "91891be0-4477-464a-8a8d-de704616804a",
   "metadata": {},
   "outputs": [
    {
     "name": "stdout",
     "output_type": "stream",
     "text": [
      "Riskiest Combination is Darkness - no lighting wiht an average casualties of 1.4907147666912353\n"
     ]
    }
   ],
   "source": [
    "riskiestWeather = riskiestDf.mean().idxmax()\n",
    "avg = riskiestDf.mean().max()\n",
    "\n",
    "print(f'Riskiest Combination is {riskiestWeather} wiht an average casualties of {avg}')"
   ]
  },
  {
   "cell_type": "markdown",
   "id": "fea75187-4753-44b4-97b6-24b3d03495b6",
   "metadata": {},
   "source": [
    "<h3>INSIGHT 14</h3>\n",
    "\n",
    "<p>the riskiest combo is darkness with no lighting, resulting in an average of about 1.49 casualties per accident. That makes sense, since it's hard to see in those conditions, and drivers probably have a much harder time reacting to hazards.</p>\n",
    "<hr>"
   ]
  },
  {
   "cell_type": "markdown",
   "id": "964377b8-433b-4459-a630-4856f2100493",
   "metadata": {},
   "source": [
    "<h3>13. Which vehicle type is most frequently involved in accidents?</h3>"
   ]
  },
  {
   "cell_type": "code",
   "execution_count": 90,
   "id": "0da1fbc0-e6c6-447a-ad6e-4c69876bd065",
   "metadata": {},
   "outputs": [
    {
     "data": {
      "text/plain": [
       "Vehicle_Type\n",
       "Car                                      497992\n",
       "Van / Goods 3.5 tonnes mgw or under       34160\n",
       "Bus or coach (17 or more pass seats)      25878\n",
       "Motorcycle over 500cc                     25657\n",
       "Goods 7.5 tonnes mgw and over             17307\n",
       "Motorcycle 125cc and under                15269\n",
       "Taxi/Private hire car                     13294\n",
       "Motorcycle over 125cc and up to 500cc      7656\n",
       "Motorcycle 50cc and under                  7603\n",
       "Goods over 3.5t. and under 7.5t            6096\n",
       "Other vehicle                              5637\n",
       "Minibus (8 - 16 passenger seats)           1976\n",
       "Agricultural vehicle                       1947\n",
       "Pedal cycle                                 197\n",
       "Data missing or out of range                  6\n",
       "Ridden horse                                  4\n",
       "Name: count, dtype: int64"
      ]
     },
     "execution_count": 90,
     "metadata": {},
     "output_type": "execute_result"
    }
   ],
   "source": [
    "data['Vehicle_Type'].value_counts()"
   ]
  },
  {
   "cell_type": "code",
   "execution_count": 89,
   "id": "f7f08775-9d83-4fee-80a5-837e48c50228",
   "metadata": {},
   "outputs": [
    {
     "data": {
      "image/png": "[encoded data removed]",
      "text/plain": [
       "<Figure size 640x480 with 1 Axes>"
      ]
     },
     "metadata": {},
     "output_type": "display_data"
    }
   ],
   "source": [
    "vehicle = data['Vehicle_Type'].value_counts().head(5)\n",
    "plt.bar(x = vehicle.index, height= vehicle)\n",
    "plt.xticks(rotation= 45)\n",
    "plt.show()"
   ]
  },
  {
   "cell_type": "markdown",
   "id": "8b4887ac-754b-4b1f-96f1-787c417b2096",
   "metadata": {},
   "source": [
    "<h3>INSIGHT 15</h3>\n",
    "\n",
    "<p>Cars are by far the most common type of vehicle involved in accidents, with 497992 acccidents</p>\n",
    "<hr>"
   ]
  },
  {
   "cell_type": "markdown",
   "id": "719f8107-90d7-4901-884d-46bf1caa79d3",
   "metadata": {},
   "source": [
    "<h3>14. Which vehicle type is most likely to crash in darkness with completely no lighting?</h3>"
   ]
  },
  {
   "cell_type": "code",
   "execution_count": 25,
   "id": "7c1762a3-64d7-479c-9372-0af25e95deeb",
   "metadata": {},
   "outputs": [
    {
     "data": {
      "text/plain": [
       "Vehicle_Type\n",
       "Agricultural vehicle                       113\n",
       "Bus or coach (17 or more pass seats)      1427\n",
       "Car                                      28385\n",
       "Data missing or out of range                 0\n",
       "Goods 7.5 tonnes mgw and over              963\n",
       "Goods over 3.5t. and under 7.5t            367\n",
       "Minibus (8 - 16 passenger seats)           121\n",
       "Motorcycle 125cc and under                 794\n",
       "Motorcycle 50cc and under                  424\n",
       "Motorcycle over 125cc and up to 500cc      447\n",
       "Motorcycle over 500cc                     1428\n",
       "Other vehicle                              299\n",
       "Pedal cycle                                  8\n",
       "Ridden horse                                 0\n",
       "Taxi/Private hire car                      704\n",
       "Van / Goods 3.5 tonnes mgw or under       1957\n",
       "dtype: int64"
      ]
     },
     "execution_count": 25,
     "metadata": {},
     "output_type": "execute_result"
    }
   ],
   "source": [
    "data[data['Light_Conditions'] == 'Darkness - no lighting'].groupby('Vehicle_Type').size()"
   ]
  },
  {
   "cell_type": "markdown",
   "id": "d29abcc6-ec8b-4851-8204-5b1b78b267c1",
   "metadata": {},
   "source": [
    "<h3>INSIGHT 16</h3>\n",
    "\n",
    "<p>Cars are the most likely to crash in complete darkness, with 28385 accidents. PRobaly because cars have more populations in the road than other vehicle type.</p>\n",
    "<hr>"
   ]
  },
  {
   "cell_type": "markdown",
   "id": "ef9b73ca-ede3-4ca8-b46d-8f3021846597",
   "metadata": {},
   "source": [
    "<h3>15. Do fatal accidents occur at higher or lower latitudes (north vs south UK)?</h3>"
   ]
  },
  {
   "cell_type": "code",
   "execution_count": 26,
   "id": "26cf96a4-1c41-4c44-8b40-d04abf911472",
   "metadata": {},
   "outputs": [
    {
     "data": {
      "text/plain": [
       "52.695999636762494"
      ]
     },
     "execution_count": 26,
     "metadata": {},
     "output_type": "execute_result"
    }
   ],
   "source": [
    " data[data['Accident_Severity'] == 'Fatal']['Latitude'].mean()"
   ]
  },
  {
   "cell_type": "code",
   "execution_count": 27,
   "id": "0b1a8bb8-16a8-4f94-9e2c-33b5e42a460d",
   "metadata": {},
   "outputs": [
    {
     "data": {
      "text/plain": [
       "52.55197774345345"
      ]
     },
     "execution_count": 27,
     "metadata": {},
     "output_type": "execute_result"
    }
   ],
   "source": [
    " data[data['Accident_Severity'] != 'Fatal']['Latitude'].mean()"
   ]
  },
  {
   "cell_type": "markdown",
   "id": "2df3d538-452f-4bea-9b63-c981f63b84a3",
   "metadata": {
    "jp-MarkdownHeadingCollapsed": true
   },
   "source": [
    "<h3>INSIGHT 17</h3>\n",
    "\n",
    "<p>This suggests that fatal accidents might be slightly more common in the southern parts of the UK, but the difference is pretty smalld</p>\n",
    "<hr>"
   ]
  },
  {
   "cell_type": "markdown",
   "id": "52c47540-06f5-4150-aa6b-c2b9a2342a12",
   "metadata": {},
   "source": [
    "<h3>16. Do motorcycle accidents increase casualty count more in rural or urban areas?</h3>"
   ]
  },
  {
   "cell_type": "code",
   "execution_count": 28,
   "id": "b55fbb1a-d4b0-4fbb-8b68-0f045142d29d",
   "metadata": {},
   "outputs": [
    {
     "data": {
      "text/plain": [
       "Urban_or_Rural_Area\n",
       "Rural          11631\n",
       "Unallocated        0\n",
       "Urban          21682\n",
       "dtype: int64"
      ]
     },
     "execution_count": 28,
     "metadata": {},
     "output_type": "execute_result"
    }
   ],
   "source": [
    "data[(data['Vehicle_Type'] == 'Motorcycle over 125cc and up to 500cc') | \n",
    "    (data['Vehicle_Type'] == 'Motorcycle over 500cc')].groupby('Urban_or_Rural_Area').size()"
   ]
  },
  {
   "cell_type": "markdown",
   "id": "66b4aeaa-ee8b-433c-87b7-fab80812e908",
   "metadata": {},
   "source": [
    "<h3>INSIGHT 18</h3>\n",
    "\n",
    "<p>Motorcycle accidents are more frequent in urban areas, with 21682 accidents compared to 11631 in rural areas.</p>\n",
    "<hr>"
   ]
  },
  {
   "cell_type": "markdown",
   "id": "3e6f143d-3087-4563-b4c2-5beee8c21d16",
   "metadata": {},
   "source": [
    "<h3>17. Which area has more accident? (Urban/Rural)</h3>"
   ]
  },
  {
   "cell_type": "code",
   "execution_count": 29,
   "id": "a2308624-e40d-43e3-8584-cc1a844e67bc",
   "metadata": {},
   "outputs": [
    {
     "data": {
      "text/plain": [
       "Urban_or_Rural_Area\n",
       "Urban          421678\n",
       "Rural          238990\n",
       "Unallocated        11\n",
       "Name: count, dtype: int64"
      ]
     },
     "execution_count": 29,
     "metadata": {},
     "output_type": "execute_result"
    }
   ],
   "source": [
    "data['Urban_or_Rural_Area'].value_counts()"
   ]
  },
  {
   "cell_type": "markdown",
   "id": "7fecfb47-10cc-4734-a8c7-e20f5a46fb2b",
   "metadata": {},
   "source": [
    "<h3>INSIGHT 19</h3>\n",
    "\n",
    "<p>there are 238990 accidents in rural areas and 421663 accidents in urban areas.</p>\n",
    "<hr>"
   ]
  },
  {
   "cell_type": "markdown",
   "id": "80a532c5-7d76-4335-9584-cb6377feca8d",
   "metadata": {},
   "source": [
    "<h3>18. Which districts report the highest share of icy/frost accidents?</h3>"
   ]
  },
  {
   "cell_type": "code",
   "execution_count": 30,
   "id": "b813747b-a344-4d89-82a7-537717512734",
   "metadata": {},
   "outputs": [
    {
     "name": "stdout",
     "output_type": "stream",
     "text": [
      "Birmingham - 306\n"
     ]
    }
   ],
   "source": [
    "highestIcyAcc = data[data['Road_Surface_Conditions'] == \"Frost or ice\"].groupby('District Area').size()\n",
    "\n",
    "highestDis = highestIcyAcc.idxmax()\n",
    "highestNum = highestIcyAcc.max()\n",
    "print(f'{highestDis} - {highestNum}')"
   ]
  },
  {
   "cell_type": "markdown",
   "id": "5755b3c0-9668-4729-ba7f-d2dffbf73344",
   "metadata": {},
   "source": [
    "<h3>INSIGHT 20</h3>\n",
    "\n",
    "<p>Birmingham reports the highest share of icy/frost accidents, with 306 incidents.</p>\n",
    "<hr>"
   ]
  },
  {
   "cell_type": "markdown",
   "id": "6dc6f61f-e6e2-404c-8d22-5655a1269c4e",
   "metadata": {},
   "source": [
    "<h3>19. Are multi-vehicle accidents in wet weather more likely to be serious than in dry weather?</h3>"
   ]
  },
  {
   "cell_type": "code",
   "execution_count": 31,
   "id": "9e1c76a4-04e2-4896-9b4a-26ecedb2c057",
   "metadata": {},
   "outputs": [
    {
     "data": {
      "text/html": [
       "<div>\n",
       "<style scoped>\n",
       "    .dataframe tbody tr th:only-of-type {\n",
       "        vertical-align: middle;\n",
       "    }\n",
       "\n",
       "    .dataframe tbody tr th {\n",
       "        vertical-align: top;\n",
       "    }\n",
       "\n",
       "    .dataframe thead th {\n",
       "        text-align: right;\n",
       "    }\n",
       "</style>\n",
       "<table border=\"1\" class=\"dataframe\">\n",
       "  <thead>\n",
       "    <tr style=\"text-align: right;\">\n",
       "      <th>Road_Surface_Conditions</th>\n",
       "      <th>Dry</th>\n",
       "      <th>Wet or damp</th>\n",
       "    </tr>\n",
       "    <tr>\n",
       "      <th>Number_of_Vehicles</th>\n",
       "      <th></th>\n",
       "      <th></th>\n",
       "    </tr>\n",
       "  </thead>\n",
       "  <tbody>\n",
       "    <tr>\n",
       "      <th>False</th>\n",
       "      <td>129730</td>\n",
       "      <td>59265</td>\n",
       "    </tr>\n",
       "    <tr>\n",
       "      <th>True</th>\n",
       "      <td>318817</td>\n",
       "      <td>127443</td>\n",
       "    </tr>\n",
       "  </tbody>\n",
       "</table>\n",
       "</div>"
      ],
      "text/plain": [
       "Road_Surface_Conditions     Dry  Wet or damp\n",
       "Number_of_Vehicles                          \n",
       "False                    129730        59265\n",
       "True                     318817       127443"
      ]
     },
     "execution_count": 31,
     "metadata": {},
     "output_type": "execute_result"
    }
   ],
   "source": [
    "multiVehicleAcc = data.groupby(data['Number_of_Vehicles'] >= 2)['Road_Surface_Conditions'].value_counts().unstack()\n",
    "multiVehicleAcc[['Dry', 'Wet or damp']]\n",
    "#TRUE means multi-vehicle"
   ]
  },
  {
   "cell_type": "markdown",
   "id": "c95d57eb-6c16-4a39-a10e-4edacc40908a",
   "metadata": {},
   "source": [
    "<h3>INSIGHT 21</h3>\n",
    "\n",
    "<p>There are 127,443 multi-vehicle accidents in wet or damp conditions and 318,327 in dry conditions. So it's clear that multi-vehicle accidents occur frequently in dry area than in wet or damp</p>\n",
    "<hr>"
   ]
  },
  {
   "cell_type": "markdown",
   "id": "10798021-e279-4b51-9f56-45f8429c7c3e",
   "metadata": {},
   "source": [
    "<h3>20. Is there a correlation between number of vehicles and number of casualties?</h3>"
   ]
  },
  {
   "cell_type": "code",
   "execution_count": 32,
   "id": "fa1a5f0c-25dd-4da1-8f3f-a7ed9b29887c",
   "metadata": {},
   "outputs": [
    {
     "data": {
      "text/plain": [
       "0.22888886126927557"
      ]
     },
     "execution_count": 32,
     "metadata": {},
     "output_type": "execute_result"
    }
   ],
   "source": [
    "data['Number_of_Vehicles'].corr(data['Number_of_Casualties'])"
   ]
  },
  {
   "cell_type": "markdown",
   "id": "5343b73e-2562-4b1f-b3ee-06a96629b908",
   "metadata": {},
   "source": [
    "<h3>INSIGHT 22</h3>\n",
    "\n",
    "<p>There's a slight correlation of about 0.23 between the number of vehicles involved in an accident and the number of casualties. This suggests thta there is a tendency for the number of casualties to increase as the number of vehicles involved increases.</p>\n",
    "<hr>"
   ]
  },
  {
   "cell_type": "markdown",
   "id": "1dfe5acd-81c1-464b-8793-df0a8f17d3d7",
   "metadata": {},
   "source": [
    "<h3>21. Are weekends more likely to have serious or fatal accidents compared to weekdays?</h3>"
   ]
  },
  {
   "cell_type": "code",
   "execution_count": 93,
   "id": "b0ceaf88-d9f4-4a49-af10-ab8b0d7d5c62",
   "metadata": {},
   "outputs": [
    {
     "data": {
      "image/png": "[encoded data removed]",
      "text/plain": [
       "<Figure size 640x480 with 1 Axes>"
      ]
     },
     "metadata": {},
     "output_type": "display_data"
    }
   ],
   "source": [
    "data['Weekend'] = data['DaysOfWeek'] >= 5  \n",
    "weekends = data[data['Accident_Severity'] == 'Fatal'].groupby('Weekend').size()\n",
    "\n",
    "labels = ['Weekdays', 'Weekends']\n",
    "\n",
    "plt.pie(weekends, labels= labels, autopct = \"%1.1f%%\")\n",
    "plt.show()"
   ]
  },
  {
   "cell_type": "markdown",
   "id": "b661fe11-cb67-4ea4-bc48-5abade453e25",
   "metadata": {},
   "source": [
    "<h3>INSIGHT 23</h3>\n",
    "\n",
    "<p>There are more fatal accidents on weekdays with 7544 than on weekends with 1117.</p>\n",
    "<hr>"
   ]
  },
  {
   "cell_type": "markdown",
   "id": "1faaa9c4-0273-4f38-a6f7-2150207f5ef3",
   "metadata": {},
   "source": [
    "<h3>INSIGHT 24</h3>\n",
    "\n",
    "<p>Weekdays generally have higher traffic volume due to commuting, which could explain the higher number of fatal accidents.</p>\n",
    "<hr>"
   ]
  },
  {
   "cell_type": "markdown",
   "id": "4310a2a8-2dd7-45ab-b0cf-fdc0bb7787eb",
   "metadata": {},
   "source": [
    "<h3>22. Do fatal accidents occur more frequently in winter vs summer months?</h3>"
   ]
  },
  {
   "cell_type": "raw",
   "id": "e4f6c4b0-0906-415a-bb48-6c264ef4b38d",
   "metadata": {},
   "source": [
    "In the UK, the winter months are December, January, and February, and the summer months are June, July, and August. \n",
    "These are meteorological seasons, which are divided into three-month periods to align with the calendar for easier \n",
    "forecasting and comparison of statistics. Winter is the coldest season with freezing temperatures, while summer is \n",
    "the warmest with long, sunny days. "
   ]
  },
  {
   "cell_type": "code",
   "execution_count": 54,
   "id": "74b6d051-6744-43e5-83fa-2e72e5ddfde9",
   "metadata": {},
   "outputs": [],
   "source": [
    "Winter = data[\"Winter\"] = data[\"Month\"].isin([12, 1, 2])\n",
    "Summer = data['Summer'] = data[\"Month\"].between(6, 8)"
   ]
  },
  {
   "cell_type": "code",
   "execution_count": 64,
   "id": "1b5e6a59-c822-4aff-be83-bc1b35611b1b",
   "metadata": {},
   "outputs": [
    {
     "data": {
      "text/plain": [
       "Month\n",
       "False    7827\n",
       "True      834\n",
       "dtype: int64"
      ]
     },
     "execution_count": 64,
     "metadata": {},
     "output_type": "execute_result"
    }
   ],
   "source": [
    "data[data['Accident_Severity'] == 'Fatal'].groupby(Winter).size()"
   ]
  },
  {
   "cell_type": "code",
   "execution_count": 66,
   "id": "b557fd3e-fd21-4467-9666-d6ce67fc1e30",
   "metadata": {},
   "outputs": [
    {
     "data": {
      "text/plain": [
       "Month\n",
       "False    7794\n",
       "True      867\n",
       "dtype: int64"
      ]
     },
     "execution_count": 66,
     "metadata": {},
     "output_type": "execute_result"
    }
   ],
   "source": [
    "data[data['Accident_Severity'] == 'Fatal'].groupby(Summer).size()"
   ]
  },
  {
   "cell_type": "code",
   "execution_count": 95,
   "id": "bc8fbae7-82ab-46f7-9f23-53dbc6fbe623",
   "metadata": {},
   "outputs": [
    {
     "data": {
      "image/png": "[encoded data removed]",
      "text/plain": [
       "<Figure size 640x480 with 1 Axes>"
      ]
     },
     "metadata": {},
     "output_type": "display_data"
    }
   ],
   "source": [
    "seasons = ['Winter', 'Summer']\n",
    "fatal_counts = [834, 867]\n",
    "\n",
    "plt.bar(seasons, fatal_counts, color=['blue', 'orange'])\n",
    "plt.title(\"Fatal Accidents: Winter vs Summer\")\n",
    "plt.ylabel(\"Number of Fatal Accidents\")\n",
    "plt.show()"
   ]
  },
  {
   "cell_type": "markdown",
   "id": "086dbc85-e3e5-41f1-b39c-307d9f3635c3",
   "metadata": {},
   "source": [
    "<h3>INSIGHT 25</h3>\n",
    "\n",
    "<p>Looking at these data, there's a slightly higher fatal accidents in Summer with 867 than in Winter with 834</p>\n",
    "<hr>"
   ]
  },
  {
   "cell_type": "code",
   "execution_count": null,
   "id": "ce6bee5c-e0f6-4742-a6db-4155b328acbc",
   "metadata": {},
   "outputs": [],
   "source": []
  }
 ],
 "metadata": {
  "kernelspec": {
   "display_name": "Python 3 (ipykernel)",
   "language": "python",
   "name": "python3"
  },
  "language_info": {
   "codemirror_mode": {
    "name": "ipython",
    "version": 3
   },
   "file_extension": ".py",
   "mimetype": "text/x-python",
   "name": "python",
   "nbconvert_exporter": "python",
   "pygments_lexer": "ipython3",
   "version": "3.12.2"
  }
 },
 "nbformat": 4,
 "nbformat_minor": 5
}
